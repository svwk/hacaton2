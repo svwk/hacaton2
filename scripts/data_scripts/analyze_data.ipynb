{
 "cells": [
  {
   "cell_type": "markdown",
   "source": [
    "# Исследовательский анализ"
   ],
   "metadata": {
    "collapsed": false
   },
   "id": "f101f3cd15bef0e8"
  },
  {
   "cell_type": "code",
   "execution_count": 10,
   "id": "initial_id",
   "metadata": {
    "collapsed": true,
    "ExecuteTime": {
     "end_time": "2023-12-01T18:14:48.634919810Z",
     "start_time": "2023-12-01T18:14:48.551658321Z"
    }
   },
   "outputs": [],
   "source": [
    "import pandas as pd\n",
    "import os\n",
    "import matplotlib.pyplot as plt\n",
    "import seaborn as sns\n",
    "pd.set_option(\"display.max_rows\", 20)\n",
    "pd.set_option(\"display.max_columns\", 20)\n",
    "pd.set_option(\"display.precision\",6)\n",
    "pd.set_option(\"plotting.backend\", \"matplotlib\")\n",
    "\n",
    "#Для корректного отображения графиков в ноутбуках используется команда %matplotlib inline\n",
    "%matplotlib inline\n",
    "# для корректного отображения графиков на тёмном фоне\n",
    "plt.style.use('default')"
   ]
  },
  {
   "cell_type": "code",
   "execution_count": 11,
   "outputs": [],
   "source": [
    "project_path = os.path.abspath(os.path.join(os.getcwd(), os.path.pardir, os.path.pardir))\n",
    "f_input = os.path.join(\"data\", \"raw\", \"SF_Mandarin_dataset_ver3_csv.csv\")\n",
    "filename = os.path.join(project_path,f_input)"
   ],
   "metadata": {
    "collapsed": false,
    "ExecuteTime": {
     "end_time": "2023-12-01T18:14:52.302122362Z",
     "start_time": "2023-12-01T18:14:52.280590393Z"
    }
   },
   "id": "aba7a10fc22388b0"
  },
  {
   "cell_type": "code",
   "execution_count": 12,
   "outputs": [],
   "source": [
    "df = pd.read_csv(filename, sep=';')"
   ],
   "metadata": {
    "collapsed": false,
    "ExecuteTime": {
     "end_time": "2023-12-01T18:14:58.083827447Z",
     "start_time": "2023-12-01T18:14:58.002825135Z"
    }
   },
   "id": "bb7715dabb9cb9"
  },
  {
   "cell_type": "markdown",
   "source": [
    "Размер набора данных"
   ],
   "metadata": {
    "collapsed": false
   },
   "id": "92e661644bec2d71"
  },
  {
   "cell_type": "code",
   "execution_count": 5,
   "outputs": [
    {
     "name": "stdout",
     "output_type": "stream",
     "text": [
      "Строк - 8787\n",
      "Столбцов - 22\n"
     ]
    }
   ],
   "source": [
    "print(f'Строк - {df.shape[0]}\\nСтолбцов - {df.shape[1]}')"
   ],
   "metadata": {
    "collapsed": false,
    "ExecuteTime": {
     "end_time": "2023-12-01T01:52:09.731517300Z",
     "start_time": "2023-12-01T01:52:09.686234293Z"
    }
   },
   "id": "7e76adba4f506961"
  },
  {
   "cell_type": "code",
   "execution_count": 7,
   "outputs": [
    {
     "name": "stdout",
     "output_type": "stream",
     "text": [
      "<class 'pandas.core.frame.DataFrame'>\n",
      "RangeIndex: 8787 entries, 0 to 8786\n",
      "Data columns (total 22 columns):\n",
      " #   Column             Non-Null Count  Dtype  \n",
      "---  ------             --------------  -----  \n",
      " 0   SkillFactory_Id    6603 non-null   float64\n",
      " 1   BirthDate          6603 non-null   object \n",
      " 2   education          6603 non-null   object \n",
      " 3   employment status  6603 non-null   object \n",
      " 4   Value              6523 non-null   object \n",
      " 5   JobStartDate       6494 non-null   object \n",
      " 6   Position           6494 non-null   object \n",
      " 7   MonthProfit        6603 non-null   float64\n",
      " 8   MonthExpense       6603 non-null   float64\n",
      " 9   Gender             6566 non-null   float64\n",
      " 10  Family status      6566 non-null   object \n",
      " 11  ChildCount         6566 non-null   float64\n",
      " 12  SNILS              6603 non-null   float64\n",
      " 13  BankA_decision     6603 non-null   object \n",
      " 14  BankB_decision     6603 non-null   object \n",
      " 15  BankC_decision     6603 non-null   object \n",
      " 16  BankD_decision     6603 non-null   object \n",
      " 17  BankE_decision     6603 non-null   object \n",
      " 18  Merch_code         6603 non-null   float64\n",
      " 19  Loan_amount        6603 non-null   float64\n",
      " 20  Loan_term          6603 non-null   float64\n",
      " 21  Goods_category     6603 non-null   object \n",
      "dtypes: float64(9), object(13)\n",
      "memory usage: 1.5+ MB\n"
     ]
    }
   ],
   "source": [
    "df.info()"
   ],
   "metadata": {
    "collapsed": false,
    "ExecuteTime": {
     "end_time": "2023-12-01T02:08:46.662822013Z",
     "start_time": "2023-12-01T02:08:46.614977729Z"
    }
   },
   "id": "bdf911fccfdec7dc"
  },
  {
   "cell_type": "code",
   "execution_count": 8,
   "outputs": [
    {
     "data": {
      "text/plain": "       SkillFactory_Id   MonthProfit   MonthExpense       Gender   ChildCount  \\\ncount      6603.000000  6.603000e+03    6603.000000  6566.000000  6566.000000   \nmean       4388.192640  1.484528e+05   26234.063153     0.309625     0.097320   \nstd        2515.520596  7.742496e+04   22557.993167     0.462374     0.423026   \nmin           1.000000  5.000000e+01       0.000000     0.000000     0.000000   \n25%        2225.500000  1.000000e+05   15000.000000     0.000000     0.000000   \n50%        4431.000000  1.450000e+05   22500.000000     0.000000     0.000000   \n75%        6516.500000  1.900000e+05   31000.000000     1.000000     0.000000   \nmax        8787.000000  1.200000e+06  500000.000000     1.000000     5.000000   \n\n             SNILS   Merch_code    Loan_amount    Loan_term  \ncount  6603.000000  6603.000000    6603.000000  6603.000000  \nmean      0.350295    38.794184   76362.108133    12.117219  \nstd       0.477099    23.929860   50978.500496     5.996582  \nmin       0.000000     1.000000    4000.000000     6.000000  \n25%       0.000000    18.000000   35000.000000     6.000000  \n50%       0.000000    36.000000   68000.000000    12.000000  \n75%       1.000000    63.000000  101000.000000    18.000000  \nmax       1.000000    80.000000  200000.000000    24.000000  ",
      "text/html": "<div>\n<style scoped>\n    .dataframe tbody tr th:only-of-type {\n        vertical-align: middle;\n    }\n\n    .dataframe tbody tr th {\n        vertical-align: top;\n    }\n\n    .dataframe thead th {\n        text-align: right;\n    }\n</style>\n<table border=\"1\" class=\"dataframe\">\n  <thead>\n    <tr style=\"text-align: right;\">\n      <th></th>\n      <th>SkillFactory_Id</th>\n      <th>MonthProfit</th>\n      <th>MonthExpense</th>\n      <th>Gender</th>\n      <th>ChildCount</th>\n      <th>SNILS</th>\n      <th>Merch_code</th>\n      <th>Loan_amount</th>\n      <th>Loan_term</th>\n    </tr>\n  </thead>\n  <tbody>\n    <tr>\n      <th>count</th>\n      <td>6603.000000</td>\n      <td>6.603000e+03</td>\n      <td>6603.000000</td>\n      <td>6566.000000</td>\n      <td>6566.000000</td>\n      <td>6603.000000</td>\n      <td>6603.000000</td>\n      <td>6603.000000</td>\n      <td>6603.000000</td>\n    </tr>\n    <tr>\n      <th>mean</th>\n      <td>4388.192640</td>\n      <td>1.484528e+05</td>\n      <td>26234.063153</td>\n      <td>0.309625</td>\n      <td>0.097320</td>\n      <td>0.350295</td>\n      <td>38.794184</td>\n      <td>76362.108133</td>\n      <td>12.117219</td>\n    </tr>\n    <tr>\n      <th>std</th>\n      <td>2515.520596</td>\n      <td>7.742496e+04</td>\n      <td>22557.993167</td>\n      <td>0.462374</td>\n      <td>0.423026</td>\n      <td>0.477099</td>\n      <td>23.929860</td>\n      <td>50978.500496</td>\n      <td>5.996582</td>\n    </tr>\n    <tr>\n      <th>min</th>\n      <td>1.000000</td>\n      <td>5.000000e+01</td>\n      <td>0.000000</td>\n      <td>0.000000</td>\n      <td>0.000000</td>\n      <td>0.000000</td>\n      <td>1.000000</td>\n      <td>4000.000000</td>\n      <td>6.000000</td>\n    </tr>\n    <tr>\n      <th>25%</th>\n      <td>2225.500000</td>\n      <td>1.000000e+05</td>\n      <td>15000.000000</td>\n      <td>0.000000</td>\n      <td>0.000000</td>\n      <td>0.000000</td>\n      <td>18.000000</td>\n      <td>35000.000000</td>\n      <td>6.000000</td>\n    </tr>\n    <tr>\n      <th>50%</th>\n      <td>4431.000000</td>\n      <td>1.450000e+05</td>\n      <td>22500.000000</td>\n      <td>0.000000</td>\n      <td>0.000000</td>\n      <td>0.000000</td>\n      <td>36.000000</td>\n      <td>68000.000000</td>\n      <td>12.000000</td>\n    </tr>\n    <tr>\n      <th>75%</th>\n      <td>6516.500000</td>\n      <td>1.900000e+05</td>\n      <td>31000.000000</td>\n      <td>1.000000</td>\n      <td>0.000000</td>\n      <td>1.000000</td>\n      <td>63.000000</td>\n      <td>101000.000000</td>\n      <td>18.000000</td>\n    </tr>\n    <tr>\n      <th>max</th>\n      <td>8787.000000</td>\n      <td>1.200000e+06</td>\n      <td>500000.000000</td>\n      <td>1.000000</td>\n      <td>5.000000</td>\n      <td>1.000000</td>\n      <td>80.000000</td>\n      <td>200000.000000</td>\n      <td>24.000000</td>\n    </tr>\n  </tbody>\n</table>\n</div>"
     },
     "execution_count": 8,
     "metadata": {},
     "output_type": "execute_result"
    }
   ],
   "source": [
    "df.describe()"
   ],
   "metadata": {
    "collapsed": false,
    "ExecuteTime": {
     "end_time": "2023-12-01T02:18:13.935075147Z",
     "start_time": "2023-12-01T02:18:13.879565509Z"
    }
   },
   "id": "a4534d8342c8ed30"
  },
  {
   "cell_type": "markdown",
   "source": [
    "Количество дубликатов:"
   ],
   "metadata": {
    "collapsed": false
   },
   "id": "21a1b3866d4cf805"
  },
  {
   "cell_type": "code",
   "execution_count": 9,
   "outputs": [
    {
     "data": {
      "text/plain": "2183"
     },
     "execution_count": 9,
     "metadata": {},
     "output_type": "execute_result"
    }
   ],
   "source": [
    "df.duplicated().sum()"
   ],
   "metadata": {
    "collapsed": false,
    "ExecuteTime": {
     "end_time": "2023-12-01T02:18:56.606665223Z",
     "start_time": "2023-12-01T02:18:56.560746918Z"
    }
   },
   "id": "c2568684ab27a8cb"
  }
 ],
 "metadata": {
  "kernelspec": {
   "display_name": "Python 3",
   "language": "python",
   "name": "python3"
  },
  "language_info": {
   "codemirror_mode": {
    "name": "ipython",
    "version": 2
   },
   "file_extension": ".py",
   "mimetype": "text/x-python",
   "name": "python",
   "nbconvert_exporter": "python",
   "pygments_lexer": "ipython2",
   "version": "2.7.6"
  }
 },
 "nbformat": 4,
 "nbformat_minor": 5
}
