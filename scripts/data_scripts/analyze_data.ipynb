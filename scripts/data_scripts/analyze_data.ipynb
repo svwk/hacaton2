{
 "cells": [
  {
   "cell_type": "markdown",
   "source": [
    "# Исследовательский анализ"
   ],
   "metadata": {
    "collapsed": false
   },
   "id": "f101f3cd15bef0e8"
  },
  {
   "cell_type": "code",
   "execution_count": 1,
   "id": "initial_id",
   "metadata": {
    "collapsed": true,
    "ExecuteTime": {
     "end_time": "2023-12-07T23:34:12.350490019Z",
     "start_time": "2023-12-07T23:34:12.340098901Z"
    }
   },
   "outputs": [],
   "source": [
    "import pandas as pd\n",
    "import os\n",
    "import matplotlib.pyplot as plt\n",
    "import seaborn as sns\n",
    "pd.set_option(\"display.max_rows\", 20)\n",
    "pd.set_option(\"display.max_columns\", 20)\n",
    "pd.set_option(\"display.precision\",6)\n",
    "pd.set_option(\"plotting.backend\", \"matplotlib\")\n",
    "\n",
    "#Для корректного отображения графиков в ноутбуках используется команда %matplotlib inline\n",
    "%matplotlib inline\n",
    "# для корректного отображения графиков на тёмном фоне\n",
    "plt.style.use('default')"
   ]
  },
  {
   "cell_type": "markdown",
   "source": [
    "# Загрузка и анализ сырых данных"
   ],
   "metadata": {
    "collapsed": false
   },
   "id": "1562daf6ce0ad6ad"
  },
  {
   "cell_type": "code",
   "execution_count": 2,
   "outputs": [],
   "source": [
    "project_path = os.path.abspath(os.path.join(os.getcwd(), os.path.pardir, os.path.pardir))\n",
    "f_input = os.path.join(\"data\", \"raw\", \"SF_Mandarin_dataset_ver3_csv.csv\")\n",
    "filename = os.path.join(project_path,f_input)"
   ],
   "metadata": {
    "collapsed": false,
    "ExecuteTime": {
     "end_time": "2023-12-07T23:34:15.606150569Z",
     "start_time": "2023-12-07T23:34:15.592746861Z"
    }
   },
   "id": "aba7a10fc22388b0"
  },
  {
   "cell_type": "code",
   "execution_count": 3,
   "outputs": [],
   "source": [
    "df = pd.read_csv(filename, sep=';')"
   ],
   "metadata": {
    "collapsed": false,
    "ExecuteTime": {
     "end_time": "2023-12-07T23:34:17.828223009Z",
     "start_time": "2023-12-07T23:34:17.789703118Z"
    }
   },
   "id": "bb7715dabb9cb9"
  },
  {
   "cell_type": "markdown",
   "source": [
    "Размер набора данных"
   ],
   "metadata": {
    "collapsed": false
   },
   "id": "92e661644bec2d71"
  },
  {
   "cell_type": "code",
   "execution_count": 4,
   "outputs": [
    {
     "name": "stdout",
     "output_type": "stream",
     "text": [
      "Строк - 8787\n",
      "Столбцов - 22\n"
     ]
    }
   ],
   "source": [
    "print(f'Строк - {df.shape[0]}\\nСтолбцов - {df.shape[1]}')"
   ],
   "metadata": {
    "collapsed": false,
    "ExecuteTime": {
     "end_time": "2023-12-07T23:34:21.325928158Z",
     "start_time": "2023-12-07T23:34:21.315226703Z"
    }
   },
   "id": "7e76adba4f506961"
  },
  {
   "cell_type": "code",
   "execution_count": 5,
   "outputs": [
    {
     "name": "stdout",
     "output_type": "stream",
     "text": [
      "<class 'pandas.core.frame.DataFrame'>\n",
      "RangeIndex: 8787 entries, 0 to 8786\n",
      "Data columns (total 22 columns):\n",
      " #   Column             Non-Null Count  Dtype  \n",
      "---  ------             --------------  -----  \n",
      " 0   SkillFactory_Id    6603 non-null   float64\n",
      " 1   BirthDate          6603 non-null   object \n",
      " 2   education          6603 non-null   object \n",
      " 3   employment status  6603 non-null   object \n",
      " 4   Value              6523 non-null   object \n",
      " 5   JobStartDate       6494 non-null   object \n",
      " 6   Position           6494 non-null   object \n",
      " 7   MonthProfit        6603 non-null   float64\n",
      " 8   MonthExpense       6603 non-null   float64\n",
      " 9   Gender             6566 non-null   float64\n",
      " 10  Family status      6566 non-null   object \n",
      " 11  ChildCount         6566 non-null   float64\n",
      " 12  SNILS              6603 non-null   float64\n",
      " 13  BankA_decision     6603 non-null   object \n",
      " 14  BankB_decision     6603 non-null   object \n",
      " 15  BankC_decision     6603 non-null   object \n",
      " 16  BankD_decision     6603 non-null   object \n",
      " 17  BankE_decision     6603 non-null   object \n",
      " 18  Merch_code         6603 non-null   float64\n",
      " 19  Loan_amount        6603 non-null   float64\n",
      " 20  Loan_term          6603 non-null   float64\n",
      " 21  Goods_category     6603 non-null   object \n",
      "dtypes: float64(9), object(13)\n",
      "memory usage: 1.5+ MB\n"
     ]
    }
   ],
   "source": [
    "df.info()"
   ],
   "metadata": {
    "collapsed": false,
    "ExecuteTime": {
     "end_time": "2023-12-07T23:34:24.753490733Z",
     "start_time": "2023-12-07T23:34:24.732986364Z"
    }
   },
   "id": "bdf911fccfdec7dc"
  },
  {
   "cell_type": "code",
   "execution_count": 6,
   "outputs": [
    {
     "data": {
      "text/plain": "       SkillFactory_Id   MonthProfit   MonthExpense       Gender   ChildCount  \\\ncount      6603.000000  6.603000e+03    6603.000000  6566.000000  6566.000000   \nmean       4388.192640  1.484528e+05   26234.063153     0.309625     0.097320   \nstd        2515.520596  7.742496e+04   22557.993167     0.462374     0.423026   \nmin           1.000000  5.000000e+01       0.000000     0.000000     0.000000   \n25%        2225.500000  1.000000e+05   15000.000000     0.000000     0.000000   \n50%        4431.000000  1.450000e+05   22500.000000     0.000000     0.000000   \n75%        6516.500000  1.900000e+05   31000.000000     1.000000     0.000000   \nmax        8787.000000  1.200000e+06  500000.000000     1.000000     5.000000   \n\n             SNILS   Merch_code    Loan_amount    Loan_term  \ncount  6603.000000  6603.000000    6603.000000  6603.000000  \nmean      0.350295    38.794184   76362.108133    12.117219  \nstd       0.477099    23.929860   50978.500496     5.996582  \nmin       0.000000     1.000000    4000.000000     6.000000  \n25%       0.000000    18.000000   35000.000000     6.000000  \n50%       0.000000    36.000000   68000.000000    12.000000  \n75%       1.000000    63.000000  101000.000000    18.000000  \nmax       1.000000    80.000000  200000.000000    24.000000  ",
      "text/html": "<div>\n<style scoped>\n    .dataframe tbody tr th:only-of-type {\n        vertical-align: middle;\n    }\n\n    .dataframe tbody tr th {\n        vertical-align: top;\n    }\n\n    .dataframe thead th {\n        text-align: right;\n    }\n</style>\n<table border=\"1\" class=\"dataframe\">\n  <thead>\n    <tr style=\"text-align: right;\">\n      <th></th>\n      <th>SkillFactory_Id</th>\n      <th>MonthProfit</th>\n      <th>MonthExpense</th>\n      <th>Gender</th>\n      <th>ChildCount</th>\n      <th>SNILS</th>\n      <th>Merch_code</th>\n      <th>Loan_amount</th>\n      <th>Loan_term</th>\n    </tr>\n  </thead>\n  <tbody>\n    <tr>\n      <th>count</th>\n      <td>6603.000000</td>\n      <td>6.603000e+03</td>\n      <td>6603.000000</td>\n      <td>6566.000000</td>\n      <td>6566.000000</td>\n      <td>6603.000000</td>\n      <td>6603.000000</td>\n      <td>6603.000000</td>\n      <td>6603.000000</td>\n    </tr>\n    <tr>\n      <th>mean</th>\n      <td>4388.192640</td>\n      <td>1.484528e+05</td>\n      <td>26234.063153</td>\n      <td>0.309625</td>\n      <td>0.097320</td>\n      <td>0.350295</td>\n      <td>38.794184</td>\n      <td>76362.108133</td>\n      <td>12.117219</td>\n    </tr>\n    <tr>\n      <th>std</th>\n      <td>2515.520596</td>\n      <td>7.742496e+04</td>\n      <td>22557.993167</td>\n      <td>0.462374</td>\n      <td>0.423026</td>\n      <td>0.477099</td>\n      <td>23.929860</td>\n      <td>50978.500496</td>\n      <td>5.996582</td>\n    </tr>\n    <tr>\n      <th>min</th>\n      <td>1.000000</td>\n      <td>5.000000e+01</td>\n      <td>0.000000</td>\n      <td>0.000000</td>\n      <td>0.000000</td>\n      <td>0.000000</td>\n      <td>1.000000</td>\n      <td>4000.000000</td>\n      <td>6.000000</td>\n    </tr>\n    <tr>\n      <th>25%</th>\n      <td>2225.500000</td>\n      <td>1.000000e+05</td>\n      <td>15000.000000</td>\n      <td>0.000000</td>\n      <td>0.000000</td>\n      <td>0.000000</td>\n      <td>18.000000</td>\n      <td>35000.000000</td>\n      <td>6.000000</td>\n    </tr>\n    <tr>\n      <th>50%</th>\n      <td>4431.000000</td>\n      <td>1.450000e+05</td>\n      <td>22500.000000</td>\n      <td>0.000000</td>\n      <td>0.000000</td>\n      <td>0.000000</td>\n      <td>36.000000</td>\n      <td>68000.000000</td>\n      <td>12.000000</td>\n    </tr>\n    <tr>\n      <th>75%</th>\n      <td>6516.500000</td>\n      <td>1.900000e+05</td>\n      <td>31000.000000</td>\n      <td>1.000000</td>\n      <td>0.000000</td>\n      <td>1.000000</td>\n      <td>63.000000</td>\n      <td>101000.000000</td>\n      <td>18.000000</td>\n    </tr>\n    <tr>\n      <th>max</th>\n      <td>8787.000000</td>\n      <td>1.200000e+06</td>\n      <td>500000.000000</td>\n      <td>1.000000</td>\n      <td>5.000000</td>\n      <td>1.000000</td>\n      <td>80.000000</td>\n      <td>200000.000000</td>\n      <td>24.000000</td>\n    </tr>\n  </tbody>\n</table>\n</div>"
     },
     "execution_count": 6,
     "metadata": {},
     "output_type": "execute_result"
    }
   ],
   "source": [
    "df.describe()"
   ],
   "metadata": {
    "collapsed": false,
    "ExecuteTime": {
     "end_time": "2023-12-07T23:34:28.459658512Z",
     "start_time": "2023-12-07T23:34:28.416097065Z"
    }
   },
   "id": "a4534d8342c8ed30"
  },
  {
   "cell_type": "code",
   "execution_count": 7,
   "outputs": [
    {
     "data": {
      "text/plain": "2183"
     },
     "execution_count": 7,
     "metadata": {},
     "output_type": "execute_result"
    }
   ],
   "source": [
    "# Количество дубликатов:\n",
    "df.duplicated().sum()"
   ],
   "metadata": {
    "collapsed": false,
    "ExecuteTime": {
     "end_time": "2023-12-07T23:34:32.692554767Z",
     "start_time": "2023-12-07T23:34:32.678674369Z"
    }
   },
   "id": "c2568684ab27a8cb"
  },
  {
   "cell_type": "code",
   "execution_count": 8,
   "outputs": [
    {
     "data": {
      "text/plain": "2323"
     },
     "execution_count": 8,
     "metadata": {},
     "output_type": "execute_result"
    }
   ],
   "source": [
    "# Строк с пустыми значениями\n",
    "df[df.isnull().any(axis=1)].shape[0]"
   ],
   "metadata": {
    "collapsed": false,
    "ExecuteTime": {
     "end_time": "2023-12-07T23:34:35.891504469Z",
     "start_time": "2023-12-07T23:34:35.877843683Z"
    }
   },
   "id": "e0141168247acf89"
  },
  {
   "cell_type": "markdown",
   "source": [
    "# Загрузка и анализ данных после предобработки"
   ],
   "metadata": {
    "collapsed": false
   },
   "id": "fdd65f17c1ee86ce"
  },
  {
   "cell_type": "markdown",
   "source": [
    "## Данные после 1-го этапа заполнения пропусков"
   ],
   "metadata": {
    "collapsed": false
   },
   "id": "cd52600319f41129"
  },
  {
   "cell_type": "code",
   "execution_count": 9,
   "outputs": [],
   "source": [
    "# f_input = os.path.join(\"data\", \"raw\", \"SF_Mandarin_dataset_ver3_csv.csv\")\n",
    "f_input1=\"data/stage_fill_na/dataset.csv\"\n",
    "filename = os.path.join(project_path,f_input1)\n",
    "df1 = pd.read_csv(filename, sep=';')"
   ],
   "metadata": {
    "collapsed": false,
    "ExecuteTime": {
     "end_time": "2023-12-07T23:34:45.655683296Z",
     "start_time": "2023-12-07T23:34:45.621840514Z"
    }
   },
   "id": "b31710d2acf77b87"
  },
  {
   "cell_type": "code",
   "execution_count": 10,
   "outputs": [
    {
     "name": "stdout",
     "output_type": "stream",
     "text": [
      "<class 'pandas.core.frame.DataFrame'>\n",
      "RangeIndex: 6603 entries, 0 to 6602\n",
      "Data columns (total 22 columns):\n",
      " #   Column             Non-Null Count  Dtype  \n",
      "---  ------             --------------  -----  \n",
      " 0   SkillFactory_Id    6603 non-null   float64\n",
      " 1   BirthDate          6603 non-null   object \n",
      " 2   education          6603 non-null   object \n",
      " 3   employment status  6603 non-null   object \n",
      " 4   Value              6603 non-null   object \n",
      " 5   JobStartDate       6603 non-null   object \n",
      " 6   Position           6494 non-null   object \n",
      " 7   MonthProfit        6603 non-null   float64\n",
      " 8   MonthExpense       6603 non-null   float64\n",
      " 9   Gender             6603 non-null   float64\n",
      " 10  Family status      6603 non-null   object \n",
      " 11  ChildCount         6603 non-null   float64\n",
      " 12  SNILS              6603 non-null   float64\n",
      " 13  BankA_decision     6603 non-null   object \n",
      " 14  BankB_decision     6603 non-null   object \n",
      " 15  BankC_decision     6603 non-null   object \n",
      " 16  BankD_decision     6603 non-null   object \n",
      " 17  BankE_decision     6603 non-null   object \n",
      " 18  Merch_code         6603 non-null   float64\n",
      " 19  Loan_amount        6603 non-null   float64\n",
      " 20  Loan_term          6603 non-null   float64\n",
      " 21  Goods_category     6603 non-null   object \n",
      "dtypes: float64(9), object(13)\n",
      "memory usage: 1.1+ MB\n"
     ]
    }
   ],
   "source": [
    "df1.info()"
   ],
   "metadata": {
    "collapsed": false,
    "ExecuteTime": {
     "end_time": "2023-12-07T23:34:48.314066275Z",
     "start_time": "2023-12-07T23:34:48.301355431Z"
    }
   },
   "id": "2084d02d29e4dff0"
  },
  {
   "cell_type": "markdown",
   "source": [
    "## Данные после 2-го этапа корректировки типов данных"
   ],
   "metadata": {
    "collapsed": false
   },
   "id": "43cd900b1405d204"
  },
  {
   "cell_type": "code",
   "execution_count": 11,
   "outputs": [
    {
     "name": "stdout",
     "output_type": "stream",
     "text": [
      "<class 'pandas.core.frame.DataFrame'>\n",
      "RangeIndex: 6603 entries, 0 to 6602\n",
      "Data columns (total 22 columns):\n",
      " #   Column             Non-Null Count  Dtype         \n",
      "---  ------             --------------  -----         \n",
      " 0   SkillFactory_Id    6603 non-null   int64         \n",
      " 1   BirthDate          6603 non-null   datetime64[ns]\n",
      " 2   education          6603 non-null   object        \n",
      " 3   employment status  6603 non-null   object        \n",
      " 4   Value              6603 non-null   object        \n",
      " 5   JobStartDate       6603 non-null   datetime64[ns]\n",
      " 6   Position           6494 non-null   object        \n",
      " 7   MonthProfit        6603 non-null   float64       \n",
      " 8   MonthExpense       6603 non-null   float64       \n",
      " 9   Gender             6603 non-null   int64         \n",
      " 10  Family status      6603 non-null   object        \n",
      " 11  ChildCount         6603 non-null   int64         \n",
      " 12  SNILS              6603 non-null   int64         \n",
      " 13  BankA_decision     6603 non-null   object        \n",
      " 14  BankB_decision     6603 non-null   object        \n",
      " 15  BankC_decision     6603 non-null   object        \n",
      " 16  BankD_decision     6603 non-null   object        \n",
      " 17  BankE_decision     6603 non-null   object        \n",
      " 18  Merch_code         6603 non-null   float64       \n",
      " 19  Loan_amount        6603 non-null   float64       \n",
      " 20  Loan_term          6603 non-null   float64       \n",
      " 21  Goods_category     6603 non-null   object        \n",
      "dtypes: datetime64[ns](2), float64(5), int64(4), object(11)\n",
      "memory usage: 1.1+ MB\n"
     ]
    }
   ],
   "source": [
    "f_input2=\"data/stage_data_prepare/dataset.csv\"\n",
    "filename = os.path.join(project_path,f_input2)\n",
    "df2 = pd.read_csv(filename, sep=';', parse_dates=['JobStartDate', 'BirthDate'])\n",
    "df2.info()"
   ],
   "metadata": {
    "collapsed": false,
    "ExecuteTime": {
     "end_time": "2023-12-07T23:35:41.903293193Z",
     "start_time": "2023-12-07T23:35:41.857473329Z"
    }
   },
   "id": "97acd0961aa70dbe"
  },
  {
   "cell_type": "code",
   "execution_count": 12,
   "outputs": [
    {
     "data": {
      "text/plain": "0"
     },
     "execution_count": 12,
     "metadata": {},
     "output_type": "execute_result"
    }
   ],
   "source": [
    "# Количество дубликатов:\n",
    "df2.duplicated().sum()"
   ],
   "metadata": {
    "collapsed": false,
    "ExecuteTime": {
     "start_time": "2023-12-07T23:36:03.254743699Z"
    }
   },
   "id": "791893fb12b5b08d"
  },
  {
   "cell_type": "code",
   "execution_count": 13,
   "outputs": [
    {
     "data": {
      "text/plain": "109"
     },
     "execution_count": 13,
     "metadata": {},
     "output_type": "execute_result"
    }
   ],
   "source": [
    "# Строк с пустыми значениями\n",
    "df2[df2.isnull().any(axis=1)].shape[0]"
   ],
   "metadata": {
    "collapsed": false,
    "ExecuteTime": {
     "start_time": "2023-12-07T23:36:18.599817099Z"
    }
   },
   "id": "e686f68e08a7b8ee"
  },
  {
   "cell_type": "code",
   "execution_count": 56,
   "outputs": [
    {
     "name": "stdout",
     "output_type": "stream",
     "text": [
      "<class 'pandas.core.frame.DataFrame'>\n",
      "RangeIndex: 6603 entries, 0 to 6602\n",
      "Data columns (total 22 columns):\n",
      " #   Column             Non-Null Count  Dtype         \n",
      "---  ------             --------------  -----         \n",
      " 0   SkillFactory_Id    6603 non-null   int64         \n",
      " 1   BirthDate          6603 non-null   datetime64[ns]\n",
      " 2   education          6603 non-null   object        \n",
      " 3   employment status  6603 non-null   object        \n",
      " 4   Value              6544 non-null   object        \n",
      " 5   JobStartDate       6603 non-null   object        \n",
      " 6   Position           6494 non-null   object        \n",
      " 7   MonthProfit        6603 non-null   float64       \n",
      " 8   MonthExpense       6603 non-null   float64       \n",
      " 9   Gender             6603 non-null   int64         \n",
      " 10  Family status      6603 non-null   object        \n",
      " 11  ChildCount         6603 non-null   int64         \n",
      " 12  SNILS              6603 non-null   int64         \n",
      " 13  BankA_decision     6603 non-null   object        \n",
      " 14  BankB_decision     6603 non-null   object        \n",
      " 15  BankC_decision     6603 non-null   object        \n",
      " 16  BankD_decision     6603 non-null   object        \n",
      " 17  BankE_decision     6603 non-null   object        \n",
      " 18  Merch_code         6603 non-null   float64       \n",
      " 19  Loan_amount        6603 non-null   float64       \n",
      " 20  Loan_term          6603 non-null   float64       \n",
      " 21  Goods_category     6603 non-null   object        \n",
      "dtypes: datetime64[ns](1), float64(5), int64(4), object(12)\n",
      "memory usage: 1.1+ MB\n"
     ]
    }
   ],
   "source": [
    "f_input3=\"data/stage_fix_errors/dataset.csv\"\n",
    "filename = os.path.join(project_path,f_input3)\n",
    "df3 = pd.read_csv(filename, sep=';', parse_dates=['JobStartDate', 'BirthDate'])\n",
    "df3.info()"
   ],
   "metadata": {
    "collapsed": false,
    "ExecuteTime": {
     "end_time": "2023-12-08T01:30:42.891330963Z",
     "start_time": "2023-12-08T01:30:42.847961342Z"
    }
   },
   "id": "3447a169ae7abc71"
  },
  {
   "cell_type": "markdown",
   "source": [
    "### Проверка методов предобработки"
   ],
   "metadata": {
    "collapsed": false
   },
   "id": "442690dd9f7a7ee9"
  },
  {
   "cell_type": "code",
   "execution_count": 14,
   "outputs": [
    {
     "name": "stdout",
     "output_type": "stream",
     "text": [
      "<class 'pandas.core.frame.DataFrame'>\n",
      "RangeIndex: 6603 entries, 0 to 6602\n",
      "Data columns (total 22 columns):\n",
      " #   Column             Non-Null Count  Dtype         \n",
      "---  ------             --------------  -----         \n",
      " 0   SkillFactory_Id    6603 non-null   int64         \n",
      " 1   BirthDate          6603 non-null   datetime64[ns]\n",
      " 2   education          6603 non-null   object        \n",
      " 3   employment status  6603 non-null   object        \n",
      " 4   Value              6603 non-null   object        \n",
      " 5   JobStartDate       6603 non-null   datetime64[ns]\n",
      " 6   Position           6494 non-null   object        \n",
      " 7   MonthProfit        6603 non-null   float64       \n",
      " 8   MonthExpense       6603 non-null   float64       \n",
      " 9   Gender             6603 non-null   int64         \n",
      " 10  Family status      6603 non-null   object        \n",
      " 11  ChildCount         6603 non-null   int64         \n",
      " 12  SNILS              6603 non-null   int64         \n",
      " 13  BankA_decision     6603 non-null   object        \n",
      " 14  BankB_decision     6603 non-null   object        \n",
      " 15  BankC_decision     6603 non-null   object        \n",
      " 16  BankD_decision     6603 non-null   object        \n",
      " 17  BankE_decision     6603 non-null   object        \n",
      " 18  Merch_code         6603 non-null   float64       \n",
      " 19  Loan_amount        6603 non-null   float64       \n",
      " 20  Loan_term          6603 non-null   float64       \n",
      " 21  Goods_category     6603 non-null   object        \n",
      "dtypes: datetime64[ns](2), float64(5), int64(4), object(11)\n",
      "memory usage: 1.1+ MB\n"
     ]
    }
   ],
   "source": [
    "from importlib import reload\n",
    "import data_prepare\n",
    "reload(data_prepare)\n",
    "df2t = data_prepare.prepare_dataset(df1)\n",
    "df2t.info()"
   ],
   "metadata": {
    "collapsed": false,
    "ExecuteTime": {
     "end_time": "2023-12-07T23:40:08.699464406Z",
     "start_time": "2023-12-07T23:40:08.658694223Z"
    }
   },
   "id": "f90725d8f8abc33a"
  },
  {
   "cell_type": "code",
   "execution_count": 40,
   "outputs": [
    {
     "data": {
      "text/plain": "<module 'fix_errors' from '/mnt/data/projects/active/urfu/hacaton2/scripts/data_scripts/fix_errors.py'>"
     },
     "execution_count": 40,
     "metadata": {},
     "output_type": "execute_result"
    }
   ],
   "source": [
    "from importlib import reload\n",
    "import fix_errors\n",
    "reload(fix_errors)"
   ],
   "metadata": {
    "collapsed": false,
    "ExecuteTime": {
     "end_time": "2023-12-08T01:11:10.551353271Z",
     "start_time": "2023-12-08T01:11:10.509034494Z"
    }
   },
   "id": "6f2c178bd9af798"
  },
  {
   "cell_type": "code",
   "execution_count": 16,
   "outputs": [
    {
     "data": {
      "text/plain": "'Никогда в браке не состоял(а)'"
     },
     "execution_count": 16,
     "metadata": {},
     "output_type": "execute_result"
    }
   ],
   "source": [
    "df2t['Family status'][0]"
   ],
   "metadata": {
    "collapsed": false,
    "ExecuteTime": {
     "end_time": "2023-12-07T23:46:25.637164988Z",
     "start_time": "2023-12-07T23:46:25.621398583Z"
    }
   },
   "id": "94e134fa3b165494"
  },
  {
   "cell_type": "code",
   "execution_count": 17,
   "outputs": [
    {
     "data": {
      "text/plain": "False"
     },
     "execution_count": 17,
     "metadata": {},
     "output_type": "execute_result"
    }
   ],
   "source": [
    "fix_errors.check_family_status(df2t['Family status'][0])"
   ],
   "metadata": {
    "collapsed": false,
    "ExecuteTime": {
     "end_time": "2023-12-07T23:46:27.071846658Z",
     "start_time": "2023-12-07T23:46:27.056958040Z"
    }
   },
   "id": "f9a676d2a1f6d4d"
  },
  {
   "cell_type": "code",
   "execution_count": 18,
   "outputs": [
    {
     "data": {
      "text/plain": "SkillFactory_Id                                            1627\nBirthDate                                   1995-07-03 00:00:00\neducation                              Среднее профессиональное\nemployment status    Работаю по найму полный рабочий день/служу\nValue                                                3 - 4 года\n                                        ...                    \nBankE_decision                                          success\nMerch_code                                                 15.0\nLoan_amount                                             80000.0\nLoan_term                                                  12.0\nGoods_category                                 Medical_services\nName: 1201, Length: 22, dtype: object"
     },
     "execution_count": 18,
     "metadata": {},
     "output_type": "execute_result"
    }
   ],
   "source": [
    "a=df2t.iloc[1201, :]\n",
    "a"
   ],
   "metadata": {
    "collapsed": false,
    "ExecuteTime": {
     "end_time": "2023-12-07T23:47:50.123467142Z",
     "start_time": "2023-12-07T23:47:50.082682563Z"
    }
   },
   "id": "daf0448adc675d00"
  },
  {
   "cell_type": "code",
   "execution_count": 19,
   "outputs": [
    {
     "name": "stderr",
     "output_type": "stream",
     "text": [
      "/mnt/data/projects/active/urfu/hacaton2/scripts/data_scripts/fix_errors.py:50: SettingWithCopyWarning: \n",
      "A value is trying to be set on a copy of a slice from a DataFrame\n",
      "\n",
      "See the caveats in the documentation: https://pandas.pydata.org/pandas-docs/stable/user_guide/indexing.html#returning-a-view-versus-a-copy\n",
      "  application_data['MonthExpense'] = real_expense\n"
     ]
    },
    {
     "data": {
      "text/plain": "SkillFactory_Id                                            1627\nBirthDate                                   1995-07-03 00:00:00\neducation                              Среднее профессиональное\nemployment status    Работаю по найму полный рабочий день/служу\nValue                                                3 - 4 года\n                                        ...                    \nBankE_decision                                          success\nMerch_code                                                 15.0\nLoan_amount                                             80000.0\nLoan_term                                                  12.0\nGoods_category                                 Medical_services\nName: 1201, Length: 22, dtype: object"
     },
     "execution_count": 19,
     "metadata": {},
     "output_type": "execute_result"
    }
   ],
   "source": [
    "fix_errors.fix_expense(a)\n",
    "a"
   ],
   "metadata": {
    "collapsed": false,
    "ExecuteTime": {
     "end_time": "2023-12-07T23:49:37.343453178Z",
     "start_time": "2023-12-07T23:49:37.302747139Z"
    }
   },
   "id": "39f123558964746"
  },
  {
   "cell_type": "code",
   "execution_count": 23,
   "outputs": [
    {
     "data": {
      "text/plain": "'3 - 4 года'"
     },
     "metadata": {},
     "output_type": "display_data"
    },
    {
     "data": {
      "text/plain": "str"
     },
     "metadata": {},
     "output_type": "display_data"
    },
    {
     "data": {
      "text/plain": "36"
     },
     "metadata": {},
     "output_type": "display_data"
    }
   ],
   "source": [
    "display(a['Value'])\n",
    "display(type(a['Value']))\n",
    "display(fix_errors.values_to_num(a['Value']))"
   ],
   "metadata": {
    "collapsed": false,
    "ExecuteTime": {
     "end_time": "2023-12-07T23:53:19.607447098Z",
     "start_time": "2023-12-07T23:53:19.561530539Z"
    }
   },
   "id": "1eb9d722e501468f"
  },
  {
   "cell_type": "code",
   "execution_count": 21,
   "outputs": [
    {
     "data": {
      "text/plain": "Timestamp('2019-05-01 00:00:00')"
     },
     "metadata": {},
     "output_type": "display_data"
    },
    {
     "data": {
      "text/plain": "4.666666666666667"
     },
     "metadata": {},
     "output_type": "display_data"
    }
   ],
   "source": [
    "display(a['JobStartDate'])\n",
    "display(fix_errors.time_diff(a['JobStartDate'])/12)"
   ],
   "metadata": {
    "collapsed": false,
    "ExecuteTime": {
     "end_time": "2023-12-07T23:50:02.599342631Z",
     "start_time": "2023-12-07T23:50:02.557097253Z"
    }
   },
   "id": "652bb07789002bf9"
  },
  {
   "cell_type": "code",
   "execution_count": 50,
   "outputs": [
    {
     "data": {
      "text/plain": "SkillFactory_Id                                            5769\nBirthDate                                   2005-02-04 00:00:00\neducation                                  Неоконченное среднее\nemployment status    Работаю по найму полный рабочий день/служу\nValue                                         6 месяцев - 1 год\n                                        ...                    \nBankE_decision                                          success\nMerch_code                                                 43.0\nLoan_amount                                            196000.0\nLoan_term                                                  24.0\nGoods_category                                           Travel\nName: 4348, Length: 22, dtype: object"
     },
     "execution_count": 50,
     "metadata": {},
     "output_type": "execute_result"
    }
   ],
   "source": [
    "# b=df2t.iloc[5457, :]\n",
    "b=df2t.iloc[4348, :]\n",
    "b"
   ],
   "metadata": {
    "collapsed": false,
    "ExecuteTime": {
     "end_time": "2023-12-08T01:17:43.301231239Z",
     "start_time": "2023-12-08T01:17:43.246813511Z"
    }
   },
   "id": "b32dfdaacd313c7f"
  },
  {
   "cell_type": "code",
   "execution_count": 51,
   "outputs": [
    {
     "data": {
      "text/plain": "6"
     },
     "execution_count": 51,
     "metadata": {},
     "output_type": "execute_result"
    }
   ],
   "source": [
    "total_seniority = int(fix_errors.values_to_num(b['Value']))\n",
    "total_seniority"
   ],
   "metadata": {
    "collapsed": false,
    "ExecuteTime": {
     "end_time": "2023-12-08T01:17:58.140956944Z",
     "start_time": "2023-12-08T01:17:58.131047378Z"
    }
   },
   "id": "e915058eeb2b7bc1"
  },
  {
   "cell_type": "code",
   "execution_count": 52,
   "outputs": [
    {
     "data": {
      "text/plain": "relativedelta(years=+18, months=+10, days=+4, hours=+4, minutes=+18, seconds=+5, microseconds=+821186)"
     },
     "metadata": {},
     "output_type": "display_data"
    },
    {
     "data": {
      "text/plain": "226"
     },
     "metadata": {},
     "output_type": "display_data"
    },
    {
     "data": {
      "text/plain": "34"
     },
     "execution_count": 52,
     "metadata": {},
     "output_type": "execute_result"
    }
   ],
   "source": [
    "from dateutil.relativedelta import relativedelta\n",
    "from datetime import datetime\n",
    "age = relativedelta(datetime.today(), b['BirthDate'])\n",
    "display(age)\n",
    "display(age.months + age.years * 12)\n",
    "age.months + (age.years - 16) * 12"
   ],
   "metadata": {
    "collapsed": false,
    "ExecuteTime": {
     "end_time": "2023-12-08T01:18:05.867370497Z",
     "start_time": "2023-12-08T01:18:05.822888368Z"
    }
   },
   "id": "f12808e09591c5d1"
  },
  {
   "cell_type": "code",
   "execution_count": 53,
   "outputs": [
    {
     "data": {
      "text/plain": "relativedelta(years=+18, months=+9, days=+7, hours=+4, minutes=+18, seconds=+16, microseconds=+480731)"
     },
     "metadata": {},
     "output_type": "display_data"
    },
    {
     "data": {
      "text/plain": "225"
     },
     "execution_count": 53,
     "metadata": {},
     "output_type": "execute_result"
    }
   ],
   "source": [
    "last_seniority = relativedelta(datetime.today(), b['JobStartDate'])\n",
    "display(last_seniority)\n",
    "last_seniority.months + last_seniority.years * 12"
   ],
   "metadata": {
    "collapsed": false,
    "ExecuteTime": {
     "end_time": "2023-12-08T01:18:16.498751609Z",
     "start_time": "2023-12-08T01:18:16.482360550Z"
    }
   },
   "id": "dc45c2ea7b6dac97"
  },
  {
   "cell_type": "code",
   "execution_count": 54,
   "outputs": [
    {
     "name": "stderr",
     "output_type": "stream",
     "text": [
      "/mnt/data/projects/active/urfu/hacaton2/scripts/data_scripts/fix_errors.py:113: SettingWithCopyWarning: \n",
      "A value is trying to be set on a copy of a slice from a DataFrame\n",
      "\n",
      "See the caveats in the documentation: https://pandas.pydata.org/pandas-docs/stable/user_guide/indexing.html#returning-a-view-versus-a-copy\n",
      "  :param str_value:  Данные из заявки\n",
      "/mnt/data/projects/active/urfu/hacaton2/scripts/data_scripts/fix_errors.py:117: SettingWithCopyWarning: \n",
      "A value is trying to be set on a copy of a slice from a DataFrame\n",
      "\n",
      "See the caveats in the documentation: https://pandas.pydata.org/pandas-docs/stable/user_guide/indexing.html#returning-a-view-versus-a-copy\n",
      "  \n"
     ]
    },
    {
     "data": {
      "text/plain": "SkillFactory_Id                                            5769\nBirthDate                                   2005-02-04 00:00:00\neducation                                  Неоконченное среднее\nemployment status    Работаю по найму полный рабочий день/служу\nValue                                                2 - 3 года\n                                        ...                    \nBankE_decision                                          success\nMerch_code                                                 43.0\nLoan_amount                                            196000.0\nLoan_term                                                  24.0\nGoods_category                                           Travel\nName: 4348, Length: 22, dtype: object"
     },
     "execution_count": 54,
     "metadata": {},
     "output_type": "execute_result"
    }
   ],
   "source": [
    "c=fix_errors.fix_seniority(b)\n",
    "c"
   ],
   "metadata": {
    "collapsed": false,
    "ExecuteTime": {
     "end_time": "2023-12-08T01:18:22.781746288Z",
     "start_time": "2023-12-08T01:18:22.767178173Z"
    }
   },
   "id": "5a0ebb9e601d1abd"
  },
  {
   "cell_type": "code",
   "execution_count": 56,
   "outputs": [
    {
     "data": {
      "text/plain": "education\nВысшее - специалист         5296\nСреднее профессиональное     471\nСреднее                      233\nНеоконченное высшее          233\nБакалавр                     153\nНесколько высших             110\nМагистр                       73\nНеоконченное среднее          30\nMBA                            3\nУченая степень                 1\nName: count, dtype: int64"
     },
     "execution_count": 56,
     "metadata": {},
     "output_type": "execute_result"
    }
   ],
   "source": [
    "df2['education'].value_counts()"
   ],
   "metadata": {
    "collapsed": false,
    "ExecuteTime": {
     "start_time": "2023-12-07T22:05:54.682698253Z"
    }
   },
   "id": "b7db2346c974b1cc"
  },
  {
   "cell_type": "code",
   "execution_count": 57,
   "outputs": [
    {
     "data": {
      "text/plain": "employment status\nРаботаю по найму полный рабочий день/служу    4858\nСобственное дело                              1527\nНе работаю                                      75\nРаботаю по найму неполный рабочий день          62\nСтудент                                         44\nДекретный отпуск                                19\nПенсионер                                       18\nName: count, dtype: int64"
     },
     "execution_count": 57,
     "metadata": {},
     "output_type": "execute_result"
    }
   ],
   "source": [
    "df1['employment status'].value_counts()"
   ],
   "metadata": {
    "collapsed": false,
    "ExecuteTime": {
     "start_time": "2023-12-07T22:06:45.032074067Z"
    }
   },
   "id": "cdc7b31f41537ce8"
  },
  {
   "cell_type": "code",
   "execution_count": 58,
   "outputs": [
    {
     "data": {
      "text/plain": "Value\n10 и более лет       3615\n3 - 4 года            528\n2 - 3 года            503\n4 - 5 лет             371\n5 - 6 лет             293\n1 - 2 года            279\n6 - 7 лет             250\n7 - 8 лет             225\n8 - 9 лет             152\n6 месяцев - 1 год     127\n9 - 10 лет             88\nНет стажа              80\n4 - 6 месяцев          56\nменее 4 месяцев        36\nName: count, dtype: int64"
     },
     "execution_count": 58,
     "metadata": {},
     "output_type": "execute_result"
    }
   ],
   "source": [
    "df1['Value'].value_counts()"
   ],
   "metadata": {
    "collapsed": false,
    "ExecuteTime": {
     "start_time": "2023-12-07T22:07:01.680632048Z"
    }
   },
   "id": "31e4009e64e54751"
  },
  {
   "cell_type": "code",
   "execution_count": 59,
   "outputs": [
    {
     "data": {
      "text/plain": "Family status\nНикогда в браке не состоял(а)               4474\nЖенат / замужем                             1490\nРазведён / Разведена                         486\nГражданский брак / совместное проживание     104\nВдовец / вдова                                49\nName: count, dtype: int64"
     },
     "execution_count": 59,
     "metadata": {},
     "output_type": "execute_result"
    }
   ],
   "source": [
    "df1['Family status'].value_counts()"
   ],
   "metadata": {
    "collapsed": false,
    "ExecuteTime": {
     "start_time": "2023-12-07T22:07:34.803190914Z"
    }
   },
   "id": "1d76971045d8dfac"
  },
  {
   "cell_type": "code",
   "execution_count": 60,
   "outputs": [
    {
     "data": {
      "text/plain": "Goods_category\nFurniture           976\nMobile_devices      957\nTravel              956\nMedical_services    940\nEducation           936\nFitness             928\nOther               910\nName: count, dtype: int64"
     },
     "execution_count": 60,
     "metadata": {},
     "output_type": "execute_result"
    }
   ],
   "source": [
    "df1['Goods_category'].value_counts()"
   ],
   "metadata": {
    "collapsed": false,
    "ExecuteTime": {
     "start_time": "2023-12-07T22:07:58.553369552Z"
    }
   },
   "id": "8ffca8271aa87557"
  },
  {
   "cell_type": "code",
   "execution_count": 61,
   "outputs": [
    {
     "data": {
      "text/plain": "Merch_code\n35.0    110\n11.0    110\n74.0    108\n62.0    108\n63.0    106\n       ... \n19.0     84\n36.0     83\n6.0      82\n72.0     79\n66.0     79\nName: count, Length: 70, dtype: int64"
     },
     "execution_count": 61,
     "metadata": {},
     "output_type": "execute_result"
    }
   ],
   "source": [
    "df1['Merch_code'].value_counts()"
   ],
   "metadata": {
    "collapsed": false,
    "ExecuteTime": {
     "start_time": "2023-12-07T22:08:33.147728530Z"
    }
   },
   "id": "955116da4619c17b"
  },
  {
   "cell_type": "code",
   "execution_count": 62,
   "outputs": [
    {
     "data": {
      "text/plain": "BankA_decision\nsuccess    4970\ndenied     1562\nerror        71\nName: count, dtype: int64"
     },
     "execution_count": 62,
     "metadata": {},
     "output_type": "execute_result"
    }
   ],
   "source": [
    "df1['BankA_decision'].value_counts()"
   ],
   "metadata": {
    "collapsed": false,
    "ExecuteTime": {
     "start_time": "2023-12-07T22:09:12.869840195Z"
    }
   },
   "id": "c647520f55973a42"
  }
 ],
 "metadata": {
  "kernelspec": {
   "display_name": "Python 3",
   "language": "python",
   "name": "python3"
  },
  "language_info": {
   "codemirror_mode": {
    "name": "ipython",
    "version": 2
   },
   "file_extension": ".py",
   "mimetype": "text/x-python",
   "name": "python",
   "nbconvert_exporter": "python",
   "pygments_lexer": "ipython2",
   "version": "2.7.6"
  }
 },
 "nbformat": 4,
 "nbformat_minor": 5
}
